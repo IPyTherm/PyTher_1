{
 "cells": [
  {
   "cell_type": "code",
   "execution_count": 1,
   "metadata": {
    "collapsed": true
   },
   "outputs": [],
   "source": [
    "#importar librerías utilizadas\n",
    "\n",
    "import numpy as np\n",
    "import matplotlib.pyplot as plt\n",
    "% matplotlib inline"
   ]
  },
  {
   "cell_type": "code",
   "execution_count": 2,
   "metadata": {
    "collapsed": false
   },
   "outputs": [
    {
     "data": {
      "text/plain": [
       "array([[  1.40000000e-01,   1.00000000e-10,   8.60000000e-01, ...,\n",
       "          1.41400000e+00,   3.00000000e+00,   2.00000000e+00],\n",
       "       [  1.40000000e-01,   1.18100000e-10,   8.60000000e-01, ...,\n",
       "          1.41400000e+00,   1.00000000e+00,   2.00000000e+00],\n",
       "       [  1.40000000e-01,   2.71800000e-10,   8.60000000e-01, ...,\n",
       "          1.41400000e+00,   1.00000000e+00,   2.00000000e+00],\n",
       "       ..., \n",
       "       [  2.49900000e-07,   9.12200000e-01,   8.78000000e-02, ...,\n",
       "          1.81400000e+00,   1.00000000e+00,   4.00000000e+00],\n",
       "       [  2.33000000e-07,   9.12200000e-01,   8.78000000e-02, ...,\n",
       "          1.81400000e+00,   1.00000000e+00,   4.00000000e+00],\n",
       "       [  2.17300000e-07,   9.12200000e-01,   8.78000000e-02, ...,\n",
       "          1.81400000e+00,   1.00000000e+00,   4.00000000e+00]])"
      ]
     },
     "execution_count": 2,
     "metadata": {},
     "output_type": "execute_result"
    }
   ],
   "source": [
    "# leer los datos requeridos del archivo\n",
    "datos_ternario = np.loadtxt('ternario_1.dat', skiprows=28)\n",
    "datos_ternario"
   ]
  },
  {
   "cell_type": "code",
   "execution_count": 3,
   "metadata": {
    "collapsed": false
   },
   "outputs": [],
   "source": [
    "#desempacar los datos leidos en variables que se manipulan\n",
    "componente_X1 = np.array(datos_ternario[:, 0]) \n",
    "componente_X2 = np.array(datos_ternario[:, 1]) \n",
    "componente_X3 = np.array(datos_ternario[:, 2]) \n",
    "\n",
    "componente_Y1 = np.array(datos_ternario[:, 3]) \n",
    "componente_Y2 = np.array(datos_ternario[:, 4]) \n",
    "componente_Y3 = np.array(datos_ternario[:, 5]) \n"
   ]
  },
  {
   "cell_type": "code",
   "execution_count": 4,
   "metadata": {
    "collapsed": false
   },
   "outputs": [
    {
     "data": {
      "text/plain": [
       "[<matplotlib.lines.Line2D at 0x7f54f1c4f7f0>]"
      ]
     },
     "execution_count": 4,
     "metadata": {},
     "output_type": "execute_result"
    },
    {
     "data": {
      "image/png": "[encoded data removed]",
      "text/plain": [
       "<matplotlib.figure.Figure at 0x7f54f4111be0>"
      ]
     },
     "metadata": {},
     "output_type": "display_data"
    }
   ],
   "source": [
    "#construir el triángulo \n",
    "lado_triangulo_x1 = np.linspace(0, 2/3**0.5)\n",
    "lado_triangulo_y1 = np.linspace(0, 0)\n",
    "\n",
    "lado_triangulo_x2 = np.linspace(0, 1/3**0.5)\n",
    "lado_triangulo_y2 = np.linspace(0, 1)\n",
    "\n",
    "lado_triangulo_x3 = np.linspace(1/3**0.5, 2/3**0.5)\n",
    "lado_triangulo_y3 = np.linspace(1, 0)\n",
    "\n",
    "#realizar la tranformación de coordenadas para gráficar en el triángulo\n",
    "componente_X_trasladado = ((3**0.5/3)*1)*(componente_X1 + (2*componente_X3))\n",
    "\n",
    "#realizar la gráfica\n",
    "plt.plot(lado_triangulo_x1, lado_triangulo_y1, linestyle=\"-\", color=\"blue\")\n",
    "plt.plot(lado_triangulo_x2, lado_triangulo_y2, linestyle=\"-\", color=\"blue\")\n",
    "plt.plot(lado_triangulo_x3, lado_triangulo_y3, linestyle=\"-\", color=\"blue\")\n",
    "plt.plot(componente_X_trasladado, componente_X1, color=\"red\")\n",
    "\n",
    "\n"
   ]
  },
  {
   "cell_type": "code",
   "execution_count": null,
   "metadata": {
    "collapsed": true
   },
   "outputs": [],
   "source": []
  },
  {
   "cell_type": "code",
   "execution_count": null,
   "metadata": {
    "collapsed": true
   },
   "outputs": [],
   "source": []
  },
  {
   "cell_type": "code",
   "execution_count": null,
   "metadata": {
    "collapsed": true
   },
   "outputs": [],
   "source": []
  }
 ],
 "metadata": {
  "kernelspec": {
   "display_name": "Python 3",
   "language": "python",
   "name": "python3"
  },
  "language_info": {
   "codemirror_mode": {
    "name": "ipython",
    "version": 3
   },
   "file_extension": ".py",
   "mimetype": "text/x-python",
   "name": "python",
   "nbconvert_exporter": "python",
   "pygments_lexer": "ipython3",
   "version": "3.4.4"
  }
 },
 "nbformat": 4,
 "nbformat_minor": 0
}
