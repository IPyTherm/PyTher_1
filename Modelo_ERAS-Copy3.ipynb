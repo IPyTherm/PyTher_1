{
 "cells": [
  {
   "cell_type": "code",
   "execution_count": 5,
   "metadata": {
    "collapsed": true
   },
   "outputs": [],
   "source": [
    "import numpy as np\n",
    "from scipy import optimize\n",
    "from scipy.optimize import fsolve\n"
   ]
  },
  {
   "cell_type": "markdown",
   "metadata": {},
   "source": [
    "**Application of the extended real associated solution (ERAS) model to excess molar volumes of binary mixtures of (alkoxyethanols + 1-alkanol)**\n",
    "\n",
    "Amalendu Pala, Harsh Kumarb, Shanti Lal Oswalc\n",
    "\n",
    "a Department of Chemistry, Kurukshetra University, Kurukshetra-136 119, Haryana, India\n",
    "\n",
    "b Department of Chemistry, Dr B R Ambedkar National Institute of Technology, Jalandhar-144 011 Punjab, India\n",
    "\n",
    "c R & D, Biochemistry Division, Span Diagnostic Limited, 173-B, New Industrial Estate, Udhana, Surat-394 120, Gujarat, India\n",
    "\n",
    "Received 12 February 2010, Revised 23 June 2010, Accepted 9 July 2010, Available online 17 July 2010\n",
    "\n",
    "http://www.sciencedirect.com/science/article/pii/S0167732210002199"
   ]
  },
  {
   "cell_type": "markdown",
   "metadata": {},
   "source": [
    "**Modelo ERAS**"
   ]
  },
  {
   "cell_type": "markdown",
   "metadata": {},
   "source": [
    "El modelo ERAS se utiliza para calcular propiedades termodinámicas:\n",
    "\n",
    "1. Entalpía molar de exceso $H^E_m$\n",
    "2. Volumen molar de exceso $V^E_m$\n",
    "\n",
    "de sustancías puras y mezclas binarias.\n",
    "\n",
    "As per ERAS model, any excess function $Z^E$ is the combination of the two additive terms so called chemical contribution ($Z^E_{chem}$) and physical contribution ($Z^E_{phy}$) which arise from hydrogen bonding effects and non-polar Vander Waals interactions between unlike molecules including free volume effect, respectively and is represented as:\n",
    "\n",
    "$$  Z^E = Z^E_{chem} + Z^E_{phy} $$\n",
    "\n",
    "where ZE = excess molar volume, VE or excess molar enthalpy, HE.\n",
    "The assumption made in the frame of ERAS model that only consecutive association occurs, which is described by a chemical equilibrium constant KA, according to the equations:\n",
    "\n",
    "The assumption made in the frame of ERAS model that only consecutive association occurs, which is described by a chemical equilibrium constant KA, according to the equations:\n",
    "\n",
    "\\begin{equation}\n",
    "A_m + A \\rightleftarrows^{K_A} A_{m + 1}\n",
    "\\end{equation}\n",
    "\n",
    "$$ B_m + B \\rightleftarrows^{K_B} B_{m + 1} $$\n",
    "\n",
    "where m and n ranges from 1 to ∞, are the degree of self association. The cross-association between two self associated components A and B is represented as:\n",
    "\n",
    "$$ A_m + B_n \\rightleftarrows^{K_{AB}} A_mB_n $$\n",
    "\n",
    "\n",
    "\n",
    "\n",
    "\n",
    "The association constant $K_i$ (i = A, B and AB) are assumed to be independent of the chain length. Their temperature dependence is given by:\n",
    "\n",
    "$$K_i = K_0exp\\left(- \\frac{\\Delta h^*_i}{R} \\left( \\frac{1}{T} - \\frac{1}{T_0}\\right)\\right) $$\n",
    "\n",
    "\n",
    "where $K_0$ is the equilibrium constant at standard temperature $T_0$ (298.15 K), R is the gas constant and $\\Delta h^*_i$ is the enthalpy for the reactions given by the Eqs.  (2), (3) and (4), which corresponds to the hydrogen bonding energy. These reactions are also characterized by the volume change $\\Delta v^*_i$ related to formation of linear chains.\n",
    "\n",
    "\n",
    "\n",
    "\n",
    "\n",
    "\n",
    "\n",
    "\n",
    "\n",
    "\n",
    "\n",
    "\n",
    "\n",
    "\n"
   ]
  },
  {
   "cell_type": "markdown",
   "metadata": {},
   "source": [
    "The expression for $V_E$ of the ERAS model extended to the two block approach of cross-association [64] are given by [19] and [20]\n",
    "\n",
    "$$ V^E_{ERAS} = V^E_{phy} + V^E_{chem} $$\n",
    "\n",
    "$$ V^E_{phy} = \\left(x_AV^*_A + x_BV^*_B\\right) \\left(\\hat V_M - \\phi_A \\hat V_A - \\phi_B \\hat V_B \\right) $$\n",
    "\n",
    "$$ V^E_{chem} = \\hat V_M \\left( x_AK_A \\Delta v^*_A  \\left(\\phi_{A1}  - \\phi_{A0} \\right) + x_BK_B \\Delta v^*_B  \\left(\\phi_{B1}  - \\phi_{B0} \\right) + x_AK_{AB} \\Delta v^*_{AB} \\left( \\frac{\\phi_{B1} \\left(1 - K_A\\phi_{A1}\\right)} {\\frac{V_B}{V_A} \\left(1 - K_B\\phi_{B1}\\right) + K_{AB}\\phi_{B1}}\\right) \\right)$$\n",
    "\n",
    "\n",
    "\n",
    "\n",
    "\n",
    "\n"
   ]
  },
  {
   "cell_type": "markdown",
   "metadata": {},
   "source": [
    "$K_A$ and $K_B$ are the equilibrium constants. $K_{AB}$ and $\\Delta h^*_{AB}$ are the association constants and hydrogen bond energy from the cross-association. $\\phi_{A1}$ and $\\phi_{B1}$ are the hard core volume fraction of the component in the mixture. They have to be calculated numerically from the solution of the following coupled equations:\n",
    "\n",
    "$$ \\phi_A = \\frac{ \\phi_{A1} } { \\left( 1 - K_A \\phi_{A1}\\right)^2} \\left(1 + \\frac{ V_A K_{AB} \\phi_{AB1} } {V_B \\left(1- K_B \\phi_{B1} \\right) } \\right) $$\n",
    "\n",
    "\n",
    "$$ \\phi_B = \\frac{ \\phi_{B1} } { \\left( 1 - K_B \\phi_{B1}\\right)^2} \\left(1 + \\frac{ K_{AB} \\phi_{A1} } {\\left(1- K_A \\phi_{A1} \\right) } \\right) $$"
   ]
  },
  {
   "cell_type": "markdown",
   "metadata": {},
   "source": [
    "The physical contribution $Z^E_{phy}$ in ERAS model is derive from Flory's equation of state [5] and [6], which is assumed to be valid not only for pure components but also for the mixture.\n",
    "\n",
    "\n",
    "$$ \\frac {P_i \\hat V_i} {\\hat T_i} = \\frac{\\hat V_i^{4/3}} {\\hat V_i^{1/3} - 1} - \\frac{1} {\\hat V_i \\hat T_i} $$\n",
    "\n",
    "where i = A, B, M (mixture).\n",
    "\n",
    "All the reduction parameters of pure components can be determined knowing the experimental data for molar volume V, thermal expansion coefficient $\\alpha$, isothermal compressibility $k_T$, provided suitable association parameters, $K_i$, $\\Delta v^*_i$, $\\Delta h^*_i$ are known. The reduction parameters for the mixtures $P^*_i$, $T^*_i$ and $V^*_i$ are calculated from mixing rules [19], [20] and [25]as follows\n",
    "\n",
    "$$ P^*_M =  \\phi_A P^*_A + \\phi_B P^*_B - X_{AB}\\phi_A \\theta_B $$\n",
    "\n",
    "$$ T^*_M =  \\frac{P^*_M} {\\frac{\\phi_A P^*_A}{T^*_M } + \\frac{\\phi_B P^*_B}{T^*_M } } $$\n",
    "\n",
    "$$ V^*_M =  x_A V^*_A + x_B V^*_B $$\n",
    "\n",
    "$X_{AB}$ is an interaction parameter characterizing the difference of dispersive intermolecular interaction between A and B. $\\phi$ i and $\\theta_i$ are the hard-core volume fraction and the surface fraction of the component i [8]."
   ]
  },
  {
   "cell_type": "markdown",
   "metadata": {},
   "source": [
    "**Parámetros de sustancias puras**"
   ]
  },
  {
   "cell_type": "markdown",
   "metadata": {},
   "source": [
    "**Parámetros caracteristicos**\n",
    "\n",
    "En caso de que los componentes no presenten asociación entre sus propias moléculas se utiliza la teoría de Flory directamente, para $K_i = 0$\n",
    "\n",
    "$$ P^*_i = \\frac{\\alpha}{k_T}T \\hat V_i^2$$\n",
    "\n",
    "$$ V^*_i = \\frac{V_i}{\\hat V_i}  $$\n",
    "\n",
    "$$ T^*_i = \\frac{T}{\\hat T_i}  $$\n",
    "\n",
    "$$ \\hat T_i = T \\frac{\\hat V_i^{4/3}} {\\hat V_i^{1/3} - 1}  $$\n",
    "\n",
    "**falta corroborar la siguiente ecuación:**\n",
    "\n",
    "$$ \\hat V^{\\frac{1}{3}} - 1 = \\frac {\\frac{\\alpha T}{3}} {1 + \\alpha T}$$\n"
   ]
  },
  {
   "cell_type": "markdown",
   "metadata": {},
   "source": [
    "En caso de tener una asociación entre moléculas del mismo componente, se utiliza las ecuaciones:\n",
    "\n",
    "\n",
    "$$ V^*_i = V_i \\left(\\frac{1+(\\alpha_i - \\alpha*_i)T}{1+ 4/3(\\alpha_i - \\alpha*_i)T} \\right)^{3} $$\n",
    "\n"
   ]
  },
  {
   "cell_type": "markdown",
   "metadata": {},
   "source": [
    "$$ \\alpha^* = \\Delta v^*_i \\Delta h^*_i \\frac{(4K_i+1)^{1/2}-2K_i(4K_i+1)^{-1/2}-1}{2K_iV^*_iRT^2}  $$ \n",
    "\n"
   ]
  },
  {
   "cell_type": "markdown",
   "metadata": {},
   "source": [
    "$$ P^*_i = \\left(\\alpha_i - \\alpha^*_i  \\right) T\\hat V^2_i \\left(k_{T_{i}}-̈́\\alpha^*_iT \\frac{\\Delta v_i}{\\Delta h_i} \\right)^{-1}$$\n"
   ]
  },
  {
   "cell_type": "markdown",
   "metadata": {},
   "source": [
    "\n",
    "$$ T^*_i = \\frac{T}{\\hat T_i}  $$\n",
    "\n"
   ]
  },
  {
   "cell_type": "markdown",
   "metadata": {},
   "source": [
    "$$ \\hat T_i = T \\frac{\\hat V_i^{4/3}} {\\hat V_i^{1/3} - 1}  $$"
   ]
  },
  {
   "cell_type": "markdown",
   "metadata": {},
   "source": [
    "En este caso las funciones que predicen los resultados de $V^*_i$ y $\\alpha^*_i$ del 1-Heptanol en la Tabla 6 del artículo: *Experimental study and ERAS modeling of the excess molar enthalpy of (acetonitrile + 1-heptanol or 1-octanol) mixtures at (298.15, 313.15, and 323.15) K and atmospheric pressure*, son:\n",
    "\n",
    "http://www.sciencedirect.com/science/article/pii/S0021961408000207\n",
    "\n",
    "$$ f_1 = 1 - \\frac{V_i}{V^*_i} \\left(\\frac{1+(\\alpha_i - \\alpha*_i)T}{1+ \\frac{4}{3}(\\alpha_i - \\alpha*_i)T} \\right)^{3} $$\n",
    "\n",
    "\n",
    "$$ f_2 = \\alpha^*_i - \\Delta v^*_i \\Delta h^*_i \\frac{(4K_i+1)^{1/2}-2K_i(4K_i+1)^{-1/2}-1}{2K_iV^*_iRT^2}  $$ \n"
   ]
  },
  {
   "cell_type": "code",
   "execution_count": 6,
   "metadata": {
    "collapsed": false
   },
   "outputs": [
    {
     "name": "stdout",
     "output_type": "stream",
     "text": [
      "V_g = 1.2466098659954163\n",
      "alpha*_i = 7.228619486079665e-05\n",
      "V* = 116.27535121764627\n",
      "840000000000.0\n",
      "P* = 5.486473153029088e-19\n",
      "T* = 5686.526831659602\n"
     ]
    }
   ],
   "source": [
    "def volumen_cal(x):\n",
    "    \n",
    "    \"\"\"\n",
    "    \n",
    "    T [=] K\n",
    "    R [=] 8.314472e-3 kJ/(K * mol)\n",
    "    V [=] cm^3 / mol\n",
    "    alfa [=] 1 / K\n",
    "    Ah [=] kJ / mol\n",
    "    Av [=] cm^3 / mol\n",
    "    Vs [=] adimensional\n",
    "    K1 [=] adimensional\n",
    "    \n",
    "    \"\"\"\n",
    "    \n",
    "    V_g = np.array(x[0])   \n",
    "    alfa_p = np.array(x[1])    \n",
    "    funcion_1 = 1 - V_g * ((1 + (alfa1 - alfa_p)*T)/(1 + 4/3 * (alfa1 - alfa_p)*T))**3\n",
    "    constante_1 = (4*K1+1)**(0.5) - 2*K1*(4*K1+1)**(-0.5) - 1\n",
    "    #funcion_2 = 1 - Av1 * Ah1 * (constante_1*V_g) / (2 * K1 * R * T**2 * V1*alfa_p)\n",
    "    funcion_2 = alfa_p - Av1 * Ah1 * (constante_1*V_g) / (2 * K1 * R * T**2 * V1)\n",
    "    \n",
    "    f = [funcion_1, funcion_2]\n",
    "    \n",
    "    #print (f)\n",
    "    return f\n",
    "\n",
    "d = 3\n",
    "\n",
    "if d == 1:\n",
    "    #------------------------------------------------------------\n",
    "    K1 = 69.04    \n",
    "    alfa1 = 7.60e-4   \n",
    "    kT1 = 8.20e5\n",
    "    V1 = 141.80\n",
    "    Av1 = -5.60\n",
    "    Ah1 = -18.99\n",
    "    \n",
    "    T = 298.15\n",
    "    R = 8.314472e-3\n",
    "elif d == 2:\n",
    "    #------------------------------------------------------------\n",
    "    K1 =  47.83   \n",
    "    alfa1 = 9.20e-4   \n",
    "    kT1 = 8.30e5\n",
    "    V1 = 143.69\n",
    "    Av1 = -5.60\n",
    "    Ah1 = -18.99\n",
    "    \n",
    "    T = 313.15\n",
    "    R = 8.314472e-3\n",
    "    #------------------------------------------------------------\n",
    "elif d == 3:\n",
    "    K1 = 38.17\n",
    "    alfa1 = 9.90e-4\n",
    "    kT1 = 8.40e5\n",
    "    V1 = 144.95\n",
    "    Av1 = -5.60\n",
    "    Ah1 = -18.99\n",
    "    #------------------------------------------------------------\n",
    "    \n",
    "    T = 323.15\n",
    "    R = 8.314472e-3\n",
    "\n",
    "#sol = optimize.root(volumen_cal, [10, 100], method='hybr')\n",
    "#sol = fsolve(volumen_cal,[10, 100],args=(initial_pressure, 1, 2, Avsl), xtol=1e-4)\n",
    "sol = fsolve(volumen_cal,[10, 100], xtol=1e-5)\n",
    "sol\n",
    "\n",
    "print (\"V_g = {0}\".format(sol[0]))\n",
    "print (\"alpha*_i = {0}\".format(sol[1]))\n",
    "\n",
    "V_g = sol[0]\n",
    "V_p = V1/V_g\n",
    "print(\"V* = {0}\".format(V_p))\n",
    "\n",
    "alfa_p = sol[1]\n",
    "\n",
    "#alfa_p = 7.2297e-5\n",
    "\n",
    "kT1 = kT1 * 1e6\n",
    "\n",
    "print((kT1 - alfa_p * T * (Av1/Ah1)))\n",
    "\n",
    "P1_p = ((alfa1 - alfa_p) * T * V_g ** 2) / ((kT1 - alfa_p * T * (Av1/Ah1)))\n",
    "P1_p = P1_p * 1e-6\n",
    "print(\"P* = {0}\".format(P1_p))\n",
    "\n",
    "T1_p = T * (V_g**(4/3))/(V_g**(1/3) - 1)\n",
    "print(\"T* = {0}\".format(T1_p))\n",
    "\n",
    "#P1_pp = (alfa1 / kT1) * T * V_g ** 2\n"
   ]
  },
  {
   "cell_type": "markdown",
   "metadata": {},
   "source": [
    "Componente = \"1-Heptanol\"\n",
    "\n",
    "T = 323.15 K\n",
    "\n",
    "V_g = 1.2466098659954163\n",
    "\n",
    "alpha*_i = 7.228619486079665e-05 1 / K\n",
    "\n",
    "V* = 116.27535121764627 cm^3 / mol\n",
    "\n",
    "P* = 5.486473153029088e-19 J / cm^3\n",
    "\n",
    "T* = 5686.526831659602 \n",
    "\n",
    "\"\"\"\n",
    "Al comparar los valores obtenidos con los reportados en la Tabla 6 de \n",
    "Experimental study and ERAS modeling of the excess molar enthalpy of\n",
    "(acetonitrile + 1-heptanol or 1-octanol) mixtures at (298.15, 313.15, and 323.15) K\n",
    "and atmospheric pressure\n",
    "\n",
    "http://www.sciencedirect.com/science/article/pii/S0021961408000207\n",
    "\n",
    "se reproducen los valores de volumen, temperatura, (alpha*_i) y menos la presión caracteristica\n",
    "\n",
    "\"\"\"\n"
   ]
  },
  {
   "cell_type": "code",
   "execution_count": 7,
   "metadata": {
    "collapsed": false
   },
   "outputs": [
    {
     "name": "stdout",
     "output_type": "stream",
     "text": [
      "[-3.80687573] [-3.34601198]\n",
      "[-3.80687573] [-3.34601198]\n",
      "[-3.80687573] [-3.34601198]\n",
      "[-3.80687572] [-3.34601198]\n",
      "[ -2.50864454e-08] [ 0.46086372]\n",
      "[ -1.11022302e-16] [ 0.46086374]\n",
      "kT = [ 0.00772155]\n"
     ]
    }
   ],
   "source": [
    "def presion_cal(x):\n",
    "    \n",
    "    kT1 = x\n",
    "    \n",
    "    alfa1 = 9.90e-4\n",
    "    alpha_p = 7.228619486079665e-05\n",
    "    #kT1 = 8.40e5\n",
    "    V_g = 1.2466098659954163\n",
    "    \n",
    "    Av1 = -5.60\n",
    "    Ah1 = -18.99\n",
    "    \n",
    "    T = 323.15\n",
    "    \n",
    "    P1_p = 553.20\n",
    "    \n",
    "    #var_1 = ((alfa1 - alfa_p) * T * V_g ** 2) / ((kT1 - alfa_p * T * (Av1/Ah1)))\n",
    "    \n",
    "    var_1 = P1_p * ((kT1 - alfa_p * T * (Av1/Ah1)))\n",
    "    \n",
    "    f1 = P1_p * ((kT1 - alfa_p * T * (Av1/Ah1))) - ((alfa1 - alfa_p) * T * V_g ** 2)\n",
    "    \n",
    "    #f1 = 1 - ((alfa1 - alfa_p) * T * V_g ** 2) / ((kT1 - alfa_p * T * (Av1/Ah1))) / P1_p\n",
    "    \n",
    "    print(f1, var_1)\n",
    "    \n",
    "    return f1\n",
    "\n",
    "\n",
    "sol = fsolve(presion_cal,[8.40e-4], xtol=1e-5)\n",
    "print(\"kT = {0}\".format(sol))"
   ]
  },
  {
   "cell_type": "markdown",
   "metadata": {
    "collapsed": true
   },
   "source": [
    "En el caso $P^*_i$ con los mismos valores encontrados acá que corresponden a los repotados en la Tabla 6 de *Experimental study and ERAS modeling of the excess molar enthalpy of (acetonitrile + 1-heptanol or 1-octanol) mixtures at (298.15, 313.15, and 323.15) K and atmospheric pressure*\n",
    "\n",
    "http://www.sciencedirect.com/science/article/pii/S0021961408000207\n",
    "\n",
    "no reproduce el mismo valor reportado en la misma Tabla 6 y poder continuar el cálculo de los parámetros de la mezcla binaria."
   ]
  },
  {
   "cell_type": "markdown",
   "metadata": {
    "collapsed": true
   },
   "source": [
    "Mientras se resuelve la duda anterior.\n",
    "\n",
    "Para el caso de los parámetros de interacción binaria se puede proceder:\n",
    "\n",
    "- Determinar los parámetros caracteristicos de cada componente puro\n",
    "- Calcular las fracciones de volumen\n",
    "- Suponer un valor para los parámetos: $ \\Delta v^*_{12}$, $ \\Delta h^*_{12}$, $ X_{12} $, $ K_{12} $\n",
    "- Calcular los parámetros de la mezcla con los valores supuestos\n",
    "- Determinar el volumen molar de exceso con el modelo ERAS\n",
    "- Calcular la función objetivo hasta una convergencia de 1e-6 arpoximadamente: \n",
    "\n",
    "$$ RD = \\frac{100}{N} | \\sum\\limits^{N}_{i=1} {\\frac{V^E_{i-exp} - V^E_{i-ERAS}}{V^E_{i-exp}}}| $$\n",
    "\n",
    "\n",
    "\n",
    "\n"
   ]
  },
  {
   "cell_type": "markdown",
   "metadata": {
    "collapsed": true
   },
   "source": []
  },
  {
   "cell_type": "code",
   "execution_count": null,
   "metadata": {
    "collapsed": true
   },
   "outputs": [],
   "source": []
  }
 ],
 "metadata": {
  "kernelspec": {
   "display_name": "Python 3",
   "language": "python",
   "name": "python3"
  },
  "language_info": {
   "codemirror_mode": {
    "name": "ipython",
    "version": 3
   },
   "file_extension": ".py",
   "mimetype": "text/x-python",
   "name": "python",
   "nbconvert_exporter": "python",
   "pygments_lexer": "ipython3",
   "version": "3.4.4"
  }
 },
 "nbformat": 4,
 "nbformat_minor": 0
}
